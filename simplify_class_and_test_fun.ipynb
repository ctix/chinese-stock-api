{
  "nbformat": 4,
  "nbformat_minor": 0,
  "metadata": {
    "colab": {
      "name": "“try_test_gg_colab_numpy.ipynb”的副本",
      "version": "0.3.2",
      "provenance": [],
      "include_colab_link": true
    },
    "kernelspec": {
      "name": "python3",
      "display_name": "Python 3"
    }
  },
  "cells": [
    {
      "cell_type": "markdown",
      "metadata": {
        "id": "view-in-github",
        "colab_type": "text"
      },
      "source": [
        "<a href=\"https://colab.research.google.com/github/ctix/chinese-stock-api/blob/master/simplify_class_and_test_fun.ipynb\" target=\"_parent\"><img src=\"https://colab.research.google.com/assets/colab-badge.svg\" alt=\"Open In Colab\"/></a>"
      ]
    },
    {
      "cell_type": "code",
      "metadata": {
        "id": "QU9NJINdhuaD",
        "colab_type": "code",
        "colab": {}
      },
      "source": [
        "import numpy as np\n",
        "import pandas as pd\n"
      ],
      "execution_count": 0,
      "outputs": []
    },
    {
      "cell_type": "code",
      "metadata": {
        "id": "6eu5NtjqiCBJ",
        "colab_type": "code",
        "colab": {}
      },
      "source": [
        "from random import random, uniform"
      ],
      "execution_count": 0,
      "outputs": []
    },
    {
      "cell_type": "code",
      "metadata": {
        "id": "0PAYJ4jjioMa",
        "colab_type": "code",
        "outputId": "b83f1ba8-080b-43fd-8bc1-27646cec1deb",
        "colab": {
          "base_uri": "https://localhost:8080/",
          "height": 71
        }
      },
      "source": [
        "print(uniform(10,20))\n",
        "print(uniform(20,10))\n",
        "print(random())"
      ],
      "execution_count": 0,
      "outputs": [
        {
          "output_type": "stream",
          "text": [
            "13.80738004562425\n",
            "18.19993988938782\n",
            "0.9728675345252052\n"
          ],
          "name": "stdout"
        }
      ]
    },
    {
      "cell_type": "code",
      "metadata": {
        "id": "vHMFrexajt3Z",
        "colab_type": "code",
        "outputId": "fbacd86e-63e1-46a9-d851-10352833a308",
        "colab": {
          "base_uri": "https://localhost:8080/",
          "height": 161
        }
      },
      "source": [
        "# import pandas as pd\n",
        "import pandas as pd\n",
        " \n",
        "# list of strings\n",
        "lst = ['Geeks', 'For', 'Geeks', 'is', \n",
        "            'portal', 'for', 'Geeks']\n",
        " \n",
        "# Calling DataFrame constructor on list\n",
        "df = pd.DataFrame(lst)\n",
        "print(df)"
      ],
      "execution_count": 0,
      "outputs": [
        {
          "output_type": "stream",
          "text": [
            "        0\n",
            "0   Geeks\n",
            "1     For\n",
            "2   Geeks\n",
            "3      is\n",
            "4  portal\n",
            "5     for\n",
            "6   Geeks\n"
          ],
          "name": "stdout"
        }
      ]
    },
    {
      "cell_type": "code",
      "metadata": {
        "id": "TpfdgQDZZ4Uj",
        "colab_type": "code",
        "outputId": "23105a6f-06a3-4975-d15b-580920064e25",
        "colab": {
          "base_uri": "https://localhost:8080/",
          "height": 107
        }
      },
      "source": [
        "# Python code demonstrate creating \n",
        "# DataFrame from dict narray / lists \n",
        "# By default addresses.\n",
        " \n",
        "import pandas as pd\n",
        " \n",
        "# intialise data of lists.\n",
        "data = {'Name':['Tom', 'nick', 'krish', 'jack'],\n",
        "        'Age':[20, 21, 19, 18]}\n",
        " \n",
        "# Create DataFrame\n",
        "df = pd.DataFrame(data)\n",
        " \n",
        "# Print the output.\n",
        "print(df)"
      ],
      "execution_count": 0,
      "outputs": [
        {
          "output_type": "stream",
          "text": [
            "    Name  Age\n",
            "0    Tom   20\n",
            "1   nick   21\n",
            "2  krish   19\n",
            "3   jack   18\n"
          ],
          "name": "stdout"
        }
      ]
    },
    {
      "cell_type": "code",
      "metadata": {
        "id": "e9N5MvEiaasI",
        "colab_type": "code",
        "outputId": "4d0fca62-910e-404a-cb26-5a8274a834c2",
        "colab": {
          "base_uri": "https://localhost:8080/",
          "height": 107
        }
      },
      "source": [
        "# Import pandas package\n",
        "import pandas as pd\n",
        " \n",
        "# Define a dictionary containing employee data\n",
        "data = {'Name':['Jai', 'Princi', 'Gaurav', 'Anuj'],\n",
        "        'Age':[27, 24, 22, 32],\n",
        "        'Address':['Delhi', 'Kanpur', 'Allahabad', 'Kannauj'],\n",
        "        'Qualification':['Msc', 'MA', 'MCA', 'Phd']}\n",
        " \n",
        "# Convert the dictionary into DataFrame \n",
        "df = pd.DataFrame(data)\n",
        " \n",
        "# select two columns\n",
        "print(df[['Name', 'Qualification']])"
      ],
      "execution_count": 0,
      "outputs": [
        {
          "output_type": "stream",
          "text": [
            "     Name Qualification\n",
            "0     Jai           Msc\n",
            "1  Princi            MA\n",
            "2  Gaurav           MCA\n",
            "3    Anuj           Phd\n"
          ],
          "name": "stdout"
        }
      ]
    },
    {
      "cell_type": "markdown",
      "metadata": {
        "id": "yMFD0Pf4juoL",
        "colab_type": "text"
      },
      "source": [
        ""
      ]
    },
    {
      "cell_type": "code",
      "metadata": {
        "id": "wnDn0fcycUlT",
        "colab_type": "code",
        "colab": {}
      },
      "source": [
        "# importing pandas as pd\n",
        "import pandas as pd\n",
        " \n",
        "# importing numpy as np\n",
        "import numpy as np\n",
        " \n",
        "# dictionary of lists\n",
        "dict = {'First Score':[100, 90, np.nan, 95],\n",
        "        'Second Score': [30, 45, 56, np.nan],\n",
        "        'Third Score':[np.nan, 40, 80, 98]}\n",
        " \n",
        "# creating a dataframe from dictionary\n",
        "df = pd.DataFrame(dict)\n",
        " \n",
        "# filling missing value using fillna()  \n",
        "df.fillna(0)"
      ],
      "execution_count": 0,
      "outputs": []
    },
    {
      "cell_type": "code",
      "metadata": {
        "id": "ky9jluxBi6ES",
        "colab_type": "code",
        "colab": {}
      },
      "source": [
        "df"
      ],
      "execution_count": 0,
      "outputs": []
    },
    {
      "cell_type": "code",
      "metadata": {
        "id": "3bEnjeyQbCBp",
        "colab_type": "code",
        "outputId": "470a98e0-6c8d-4df2-d576-6bd201c10f12",
        "colab": {
          "base_uri": "https://localhost:8080/",
          "height": 168
        }
      },
      "source": [
        "# importing pandas as pd\n",
        "import pandas as pd\n",
        " \n",
        "# importing numpy as np\n",
        "import numpy as np\n",
        " \n",
        "# dictionary of lists\n",
        "dict = {'First Score':[100, 90, np.nan, 95],\n",
        "        'Second Score': [30, 45, 56, np.nan],\n",
        "        'Third Score':[np.nan, 40, 80, 98]}\n",
        " \n",
        "# creating a dataframe from dictionary\n",
        "df = pd.DataFrame(dict)\n",
        " \n",
        "# filling missing value using fillna()  \n",
        "df.fillna(0)"
      ],
      "execution_count": 0,
      "outputs": [
        {
          "output_type": "execute_result",
          "data": {
            "text/html": [
              "<div>\n",
              "<style scoped>\n",
              "    .dataframe tbody tr th:only-of-type {\n",
              "        vertical-align: middle;\n",
              "    }\n",
              "\n",
              "    .dataframe tbody tr th {\n",
              "        vertical-align: top;\n",
              "    }\n",
              "\n",
              "    .dataframe thead th {\n",
              "        text-align: right;\n",
              "    }\n",
              "</style>\n",
              "<table border=\"1\" class=\"dataframe\">\n",
              "  <thead>\n",
              "    <tr style=\"text-align: right;\">\n",
              "      <th></th>\n",
              "      <th>First Score</th>\n",
              "      <th>Second Score</th>\n",
              "      <th>Third Score</th>\n",
              "    </tr>\n",
              "  </thead>\n",
              "  <tbody>\n",
              "    <tr>\n",
              "      <th>0</th>\n",
              "      <td>100.0</td>\n",
              "      <td>30.0</td>\n",
              "      <td>0.0</td>\n",
              "    </tr>\n",
              "    <tr>\n",
              "      <th>1</th>\n",
              "      <td>90.0</td>\n",
              "      <td>45.0</td>\n",
              "      <td>40.0</td>\n",
              "    </tr>\n",
              "    <tr>\n",
              "      <th>2</th>\n",
              "      <td>0.0</td>\n",
              "      <td>56.0</td>\n",
              "      <td>80.0</td>\n",
              "    </tr>\n",
              "    <tr>\n",
              "      <th>3</th>\n",
              "      <td>95.0</td>\n",
              "      <td>0.0</td>\n",
              "      <td>98.0</td>\n",
              "    </tr>\n",
              "  </tbody>\n",
              "</table>\n",
              "</div>"
            ],
            "text/plain": [
              "   First Score  Second Score  Third Score\n",
              "0        100.0          30.0          0.0\n",
              "1         90.0          45.0         40.0\n",
              "2          0.0          56.0         80.0\n",
              "3         95.0           0.0         98.0"
            ]
          },
          "metadata": {
            "tags": []
          },
          "execution_count": 10
        }
      ]
    },
    {
      "cell_type": "code",
      "metadata": {
        "id": "hlW--PKybCuU",
        "colab_type": "code",
        "outputId": "9b25c8b3-22fb-4f19-d7a1-ecd1e33b7d90",
        "colab": {
          "base_uri": "https://localhost:8080/",
          "height": 104
        }
      },
      "source": [
        "# importing pandas as pd\n",
        "import pandas as pd\n",
        "   \n",
        "# dictionary of lists\n",
        "dict = {'name':[\"aparna\", \"pankaj\", \"sudhir\", \"Geeku\"],\n",
        "        'degree': [\"MBA\", \"BCA\", \"M.Tech\", \"MBA\"],\n",
        "        'score':[90, 40, 80, 98]}\n",
        "  \n",
        "# creating a dataframe from a dictionary \n",
        "df = pd.DataFrame(dict)\n",
        " \n",
        "print(df)"
      ],
      "execution_count": 0,
      "outputs": [
        {
          "output_type": "stream",
          "text": [
            "     name  degree  score\n",
            "0  aparna     MBA     90\n",
            "1  pankaj     BCA     40\n",
            "2  sudhir  M.Tech     80\n",
            "3   Geeku     MBA     98\n"
          ],
          "name": "stdout"
        }
      ]
    },
    {
      "cell_type": "code",
      "metadata": {
        "id": "ZB1hgdZDcScH",
        "colab_type": "code",
        "outputId": "bf502aa5-4b8e-45df-910c-680588bcd16c",
        "colab": {
          "base_uri": "https://localhost:8080/",
          "height": 69
        }
      },
      "source": [
        "# creating a list of dataframe columns\n",
        "columns = list(df)\n",
        " \n",
        "for i in columns:\n",
        " \n",
        "    # printing the third element of the column\n",
        "    print (df[i][2])"
      ],
      "execution_count": 0,
      "outputs": [
        {
          "output_type": "stream",
          "text": [
            "sudhir\n",
            "M.Tech\n",
            "80\n"
          ],
          "name": "stdout"
        }
      ]
    },
    {
      "cell_type": "code",
      "metadata": {
        "id": "1mRHMjVzfW5Y",
        "colab_type": "code",
        "colab": {}
      },
      "source": [
        ""
      ],
      "execution_count": 0,
      "outputs": []
    }
  ]
}