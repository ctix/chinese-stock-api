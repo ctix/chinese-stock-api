{
  "nbformat": 4,
  "nbformat_minor": 0,
  "metadata": {
    "colab": {
      "name": "“try_test_gg_colab_numpy.ipynb”的副本",
      "version": "0.3.2",
      "provenance": [],
      "include_colab_link": true
    },
    "kernelspec": {
      "name": "python3",
      "display_name": "Python 3"
    }
  },
  "cells": [
    {
      "cell_type": "markdown",
      "metadata": {
        "id": "view-in-github",
        "colab_type": "text"
      },
      "source": [
        "<a href=\"https://colab.research.google.com/github/ctix/chinese-stock-api/blob/master/simplify_class_and_test_fun.ipynb\" target=\"_parent\"><img src=\"https://colab.research.google.com/assets/colab-badge.svg\" alt=\"Open In Colab\"/></a>"
      ]
    },
    {
      "cell_type": "markdown",
      "metadata": {
        "id": "60Fl7pizw1NE",
        "colab_type": "text"
      },
      "source": [
        "## The new way to make the structure \n",
        "---------\n",
        "Study for modification  \\\\\n",
        "Copy from cstock directory base_engine.py "
      ]
    },
    {
      "cell_type": "code",
      "metadata": {
        "id": "6eu5NtjqiCBJ",
        "colab_type": "code",
        "colab": {}
      },
      "source": [
        "import abc\n",
        "\n",
        "class Engine(object):\n",
        "    \"\"\"Base Engine class, must be inherited\n",
        "    \"\"\"\n",
        "\n",
        "    __slots__ = ['_url']\n",
        "\n",
        "    def __init__(self, base_url=None):\n",
        "        if base_url is None:\n",
        "            self._url = self.DEFAULT_BASE_URL\n",
        "        else:\n",
        "            self._url = base_url\n",
        " \n",
        "    @abc.abstractmethod\n",
        "    def parse(self, data, stock_id):\n",
        "        \"\"\"\n",
        "        parse the data from service URL\n",
        "        :param data:             payload string\n",
        "        :type data:            ``str``\n",
        "        :param stock_id:         raw stock/fund id\n",
        "        :type stock_id:        ``str``\n",
        "        :returns:            tuple of Stock objects\n",
        "        :rtype:            ``tuple``\n",
        "        \"\"\"\n",
        "        pass\n",
        "\n",
        "    def get_url(self, stock_id, date=None):\n",
        "        \"\"\"\n",
        "        transform stock_id date into service URL\n",
        "        :param stock_id:            stock id  \n",
        "        :type stock_id:            ``str``\n",
        "        :param date:            tuple of start date & end date, optional\n",
        "            e.g. ('2014-12-13', '2014-12-15')\n",
        "        :type date:            ``tuple``\n",
        "        :returns:            service URL\n",
        "        :rtype:            ``str``\n",
        "        \"\"\"\n",
        "        engine_id = self.get_engine_id(stock_id)\n",
        "        return self._url % engine_id\n",
        "\n",
        "    def get_engine_id(self, stock_id):\n",
        "        \"\"\"\n",
        "        transform raw stock_id into service stock id\n",
        "        we regard stock/fund starting with 0 or 3 belongs to shenzhen\n",
        "        :param stock_id:            raw stock id\n",
        "        :type stock_id:            ``str``\n",
        "        :returns:            service stock id\n",
        "        :rtype:            ``str``\n",
        "        \"\"\"\n",
        "        if stock_id.startswith('0') or stock_id.startswith('3'):\n",
        "            return self.shenzhen_transform(stock_id)\n",
        "        \n",
        "        if stock_id.startswith('6'):\n",
        "            return self.shanghai_transform(stock_id)\n",
        "        \n",
        "        raise ParserException(\"Unknow stock id %s\" % stock_id)"
      ],
      "execution_count": 0,
      "outputs": []
    },
    {
      "cell_type": "markdown",
      "metadata": {
        "id": "P0KL_EUgxhXx",
        "colab_type": "text"
      },
      "source": [
        "## Copy from the cstock/model.py"
      ]
    },
    {
      "cell_type": "code",
      "metadata": {
        "id": "0PAYJ4jjioMa",
        "colab_type": "code",
        "outputId": "b83f1ba8-080b-43fd-8bc1-27646cec1deb",
        "colab": {
          "base_uri": "https://localhost:8080/",
          "height": 71
        }
      },
      "source": [
        "class ParserException(Exception):\n",
        "    pass\n",
        "\n",
        "\n",
        "class Stock(object):\n",
        "    \n",
        "    # yesterday_close is yesterday close price\n",
        "    # close is today close price\n",
        "\n",
        "    # volume: unit of stock transacted\n",
        "    # turnover: total transaction money\n",
        "\n",
        "    __slots__ = [\n",
        "        'name',\n",
        "        'code',\n",
        "        'date',\n",
        "        'time',\n",
        "        'price',\n",
        "        'open',\n",
        "        'close',\n",
        "        'high',\n",
        "        'low',\n",
        "        'volume',\n",
        "        'turnover',\n",
        "        'yesterday_close',\n",
        "    ]\n",
        "\n",
        "    def __init__(self, **argvs):\n",
        "        \n",
        "        for (k, v) in argvs.items():\n",
        "            setattr(self, k, v)\n",
        "\n",
        "    def as_dict(self):\n",
        "        result = {\n",
        "            i: getattr(self, i, None)\n",
        "            for i in self.__slots__\n",
        "        }\n",
        "\n",
        "        # dispose date and time because they are datetime class instance\n",
        "        if result['date'] is not None:\n",
        "            result['date'] = str(result['date'])\n",
        "\n",
        "        if result['time'] is not None:\n",
        "            result['time'] = str(result['time'])\n",
        "\n",
        "        return result"
      ],
      "execution_count": 0,
      "outputs": [
        {
          "output_type": "stream",
          "text": [
            "13.80738004562425\n",
            "18.19993988938782\n",
            "0.9728675345252052\n"
          ],
          "name": "stdout"
        }
      ]
    },
    {
      "cell_type": "code",
      "metadata": {
        "id": "vHMFrexajt3Z",
        "colab_type": "code",
        "outputId": "fbacd86e-63e1-46a9-d851-10352833a308",
        "colab": {
          "base_uri": "https://localhost:8080/",
          "height": 161
        }
      },
      "source": [
        "# ##chinese-stock-api/cstock/request.py\n",
        "\n",
        "import urllib2\n",
        "\n",
        "\n",
        "class Requester(object):\n",
        "    \"\"\" Requester class for diferent engine\n",
        "    \"\"\"\n",
        "\n",
        "    __slots__ = [\"_engine\"]\n",
        "\n",
        "    def __init__(self, engine):\n",
        "\n",
        "        self._engine = engine\n",
        "\n",
        "    def request(self, stock_id, date=None):\n",
        "        \"\"\"request by stock id and date\n",
        "        :param stock_id:\n",
        "            stock id string\n",
        "        :type stock_id:\n",
        "            ``str``\n",
        "        :param date:\n",
        "            tuple of start date and stop date\n",
        "            e.g. ('2014-03-04', '2014-03-05')\n",
        "        :type date:\n",
        "            ``tuple``\n",
        "        :returns:\n",
        "            tuple of stock objects\n",
        "        :rtype:\n",
        "            ``tuple``\n",
        "        \"\"\"\n",
        "        \n",
        "        stock_url = self._engine.get_url(stock_id, date)\n",
        "        print stock_url\n",
        "\n",
        "        request = urllib2.Request(stock_url)\n",
        "        request.add_header('Content-Type', 'application/json')\n",
        "        response = urllib2.urlopen(request)\n",
        "        data = response.read()\n",
        "\n",
        "        return self._engine.parse(data, stock_id)"
      ],
      "execution_count": 0,
      "outputs": [
        {
          "output_type": "stream",
          "text": [
            "        0\n",
            "0   Geeks\n",
            "1     For\n",
            "2   Geeks\n",
            "3      is\n",
            "4  portal\n",
            "5     for\n",
            "6   Geeks\n"
          ],
          "name": "stdout"
        }
      ]
    },
    {
      "cell_type": "code",
      "metadata": {
        "id": "TpfdgQDZZ4Uj",
        "colab_type": "code",
        "outputId": "23105a6f-06a3-4975-d15b-580920064e25",
        "colab": {
          "base_uri": "https://localhost:8080/",
          "height": 107
        }
      },
      "source": [
        ""
      ],
      "execution_count": 0,
      "outputs": [
        {
          "output_type": "stream",
          "text": [
            "    Name  Age\n",
            "0    Tom   20\n",
            "1   nick   21\n",
            "2  krish   19\n",
            "3   jack   18\n"
          ],
          "name": "stdout"
        }
      ]
    },
    {
      "cell_type": "markdown",
      "metadata": {
        "id": "WeSGnpuWyqQr",
        "colab_type": "text"
      },
      "source": [
        "###  api/sina_engine.py"
      ]
    },
    {
      "cell_type": "code",
      "metadata": {
        "id": "e9N5MvEiaasI",
        "colab_type": "code",
        "outputId": "4d0fca62-910e-404a-cb26-5a8274a834c2",
        "colab": {
          "base_uri": "https://localhost:8080/",
          "height": 107
        }
      },
      "source": [
        "import re\n",
        "import json\n",
        "import datetime\n",
        "\n",
        "from cstock.base_engine import Engine\n",
        "from cstock.model import Stock, ParserException\n",
        "\n",
        "class SinaEngine(Engine):\n",
        "    \"\"\"\n",
        "    Sina Engine transform stock id & parse data\n",
        "    \"\"\"\n",
        "\n",
        "    DEFAULT_BASE_URL = \"http://hq.sinajs.cn/list=%s\"\n",
        "\n",
        "    def __init__(self, base_url=None):\n",
        "        \n",
        "        super(SinaEngine, self).__init__(base_url)\n",
        "\n",
        "        self.shanghai_transform = lambda sid: \"sh%s\" % sid\n",
        "        self.shenzhen_transform = lambda sid: \"sz%s\" % sid\n",
        "\n",
        "    def get_url(self, stock_id, date=None):\n",
        "        if date is not None:\n",
        "            raise ParserException(\"Sina Engie does not accept date\")\n",
        "\n",
        "        return super(SinaEngine, self).get_url(stock_id)\n",
        "\n",
        "    def parse(self, data, stock_id):\n",
        "\n",
        "        def prepare_data(data):\n",
        "            \"\"\"because sina does not return a standard data,\n",
        "            we need to extract the real data part\n",
        "            \"\"\"\n",
        "            regroup = re.match(r'^var.*=\"(.*)\"', data)\n",
        "\n",
        "            if regroup:\n",
        "                return regroup.group(1)\n",
        "            else:\n",
        "                raise ParserException(\"Unable to extact json from %s\" % data)\n",
        "\n",
        "        data_string = prepare_data(data)\n",
        "        obj = data_string.split(',')\n",
        "        return (self._generate_stock(obj, stock_id),)\n",
        "\n",
        "    @staticmethod\n",
        "    def _generate_stock(obj, stock_id):\n",
        "        d = dict(enumerate(obj))\n",
        "\n",
        "        date = d.get(30, None)\n",
        "        time = d.get(31, None)\n",
        "\n",
        "        if date is not None:\n",
        "            date = datetime.datetime.strptime(date, '%Y-%m-%d').date()\n",
        "\n",
        "        if time is not None:\n",
        "            time = datetime.datetime.strptime(time, '%H:%M:%S').time()\n",
        "\n",
        "        return Stock(\n",
        "            code=stock_id,\n",
        "            name=d.get(0, None),\n",
        "            open=d.get(1, None),\n",
        "            yesterday_close=d.get(2, None),\n",
        "            price=d.get(3, None),\n",
        "            high=d.get(4, None),\n",
        "            low=d.get(5, None),\n",
        "            volume=d.get(8, None),\n",
        "            turnover=d.get(9, None),\n",
        "            date=date,\n",
        "            time=time,\n",
        "        )"
      ],
      "execution_count": 0,
      "outputs": [
        {
          "output_type": "stream",
          "text": [
            "     Name Qualification\n",
            "0     Jai           Msc\n",
            "1  Princi            MA\n",
            "2  Gaurav           MCA\n",
            "3    Anuj           Phd\n"
          ],
          "name": "stdout"
        }
      ]
    },
    {
      "cell_type": "markdown",
      "metadata": {
        "id": "QLnBqPPjzPV3",
        "colab_type": "text"
      },
      "source": [
        "### Test the sina engine "
      ]
    },
    {
      "cell_type": "markdown",
      "metadata": {
        "id": "yMFD0Pf4juoL",
        "colab_type": "text"
      },
      "source": [
        ""
      ]
    },
    {
      "cell_type": "code",
      "metadata": {
        "id": "wnDn0fcycUlT",
        "colab_type": "code",
        "colab": {}
      },
      "source": [
        "# system library\n",
        "import unittest\n",
        "import datetime\n",
        "\n",
        "# project library\n",
        "from cstock.sina_engine import SinaEngine\n",
        "\n",
        "\n",
        "class TestEngine(unittest.TestCase):\n",
        "\n",
        "    def setUp(self):\n",
        "        self.engine = SinaEngine()\n",
        "\n",
        "    def test_get_url(self):\n",
        "        url = self.engine.get_url('600010') \n",
        "        self.assertEqual(url, \"http://hq.sinajs.cn/list=sh600010\")\n",
        "\n",
        "    def test_parse(self):\n",
        "        data = 'var hq_str_sh600010=\"包钢股份,5.98,5.99,6.15,6.34,5.95,6.15,6.16,542628944,3341837325,239800,6.15,1033800,6.14,2408711,6.13,1719525,6.12,1001900,6.11,2873590,6.16,1481300,6.17,2113716,6.18,1177600,6.19,2587603,6.20,2015-03-18,15:03:05,00\";'\n",
        "\n",
        "        stock = self.engine.parse(data, 'foo_id')\n",
        "        self.assertEqual(len(stock), 1)\n",
        "        self.assertEqual(\n",
        "            stock[0].as_dict(),\n",
        "            {'yesterday_close': '5.99',\n",
        "             'close': None,\n",
        "             'code': 'foo_id',\n",
        "             'high': '6.34',\n",
        "             'low': '5.95',\n",
        "             'name': '\\xe5\\x8c\\x85\\xe9\\x92\\xa2\\xe8\\x82\\xa1\\xe4\\xbb\\xbd',\n",
        "             'open': '5.98',\n",
        "             'price': '6.15',\n",
        "             'turnover': '3341837325',\n",
        "             'volume': '542628944',\n",
        "             'date': '2015-03-18',\n",
        "             'time': '15:03:05'}\n",
        "        )"
      ],
      "execution_count": 0,
      "outputs": []
    },
    {
      "cell_type": "markdown",
      "metadata": {
        "id": "ky9jluxBi6ES",
        "colab_type": "text"
      },
      "source": [
        "###  Test the  dataSource requst"
      ]
    },
    {
      "cell_type": "code",
      "metadata": {
        "id": "3bEnjeyQbCBp",
        "colab_type": "code",
        "outputId": "470a98e0-6c8d-4df2-d576-6bd201c10f12",
        "colab": {
          "base_uri": "https://localhost:8080/",
          "height": 168
        }
      },
      "source": [
        "# system library\n",
        "import unittest\n",
        "from datetime import datetime\n",
        "\n",
        "# project library\n",
        "from cstock.hexun_engine import HexunEngine\n",
        "from cstock.sina_engine import SinaEngine\n",
        "from cstock.yahoo_engine import YahooEngine\n",
        "from cstock.request import Requester\n",
        "from cstock.model import Stock\n",
        "\n",
        "class TestRequester(unittest.TestCase):\n",
        "\n",
        "    def setUp(self):\n",
        "        engine = HexunEngine()\n",
        "        self.hexun_requester = Requester(engine)\n",
        "        engine = SinaEngine()\n",
        "        self.sina_requester = Requester(engine)\n",
        "        engine = YahooEngine()\n",
        "        self.yahoo_requester = Requester(engine)\n",
        "\n",
        "    def test_hexun_request(self):\n",
        "        stock = self.hexun_requester.request('000626')\n",
        "        self.assertEqual(len(stock), 1)\n",
        "        self.assertEqual(stock[0].__class__, Stock)\n",
        "\n",
        "    def test_sina_request(self):\n",
        "        stock = self.sina_requester.request('002475')\n",
        "        self.assertEqual(len(stock), 1)\n",
        "        self.assertEqual(stock[0].__class__, Stock)\n",
        "\n",
        "    def test_yahoo_request(self):\n",
        "        stock = self.yahoo_requester.request('002475',\n",
        "                                             ('2015-03-04', '2015-03-05'))\n",
        "        self.assertEqual(len(stock), 2)\n",
        "        self.assertEqual(stock[0].__class__, Stock)"
      ],
      "execution_count": 0,
      "outputs": [
        {
          "output_type": "execute_result",
          "data": {
            "text/html": [
              "<div>\n",
              "<style scoped>\n",
              "    .dataframe tbody tr th:only-of-type {\n",
              "        vertical-align: middle;\n",
              "    }\n",
              "\n",
              "    .dataframe tbody tr th {\n",
              "        vertical-align: top;\n",
              "    }\n",
              "\n",
              "    .dataframe thead th {\n",
              "        text-align: right;\n",
              "    }\n",
              "</style>\n",
              "<table border=\"1\" class=\"dataframe\">\n",
              "  <thead>\n",
              "    <tr style=\"text-align: right;\">\n",
              "      <th></th>\n",
              "      <th>First Score</th>\n",
              "      <th>Second Score</th>\n",
              "      <th>Third Score</th>\n",
              "    </tr>\n",
              "  </thead>\n",
              "  <tbody>\n",
              "    <tr>\n",
              "      <th>0</th>\n",
              "      <td>100.0</td>\n",
              "      <td>30.0</td>\n",
              "      <td>0.0</td>\n",
              "    </tr>\n",
              "    <tr>\n",
              "      <th>1</th>\n",
              "      <td>90.0</td>\n",
              "      <td>45.0</td>\n",
              "      <td>40.0</td>\n",
              "    </tr>\n",
              "    <tr>\n",
              "      <th>2</th>\n",
              "      <td>0.0</td>\n",
              "      <td>56.0</td>\n",
              "      <td>80.0</td>\n",
              "    </tr>\n",
              "    <tr>\n",
              "      <th>3</th>\n",
              "      <td>95.0</td>\n",
              "      <td>0.0</td>\n",
              "      <td>98.0</td>\n",
              "    </tr>\n",
              "  </tbody>\n",
              "</table>\n",
              "</div>"
            ],
            "text/plain": [
              "   First Score  Second Score  Third Score\n",
              "0        100.0          30.0          0.0\n",
              "1         90.0          45.0         40.0\n",
              "2          0.0          56.0         80.0\n",
              "3         95.0           0.0         98.0"
            ]
          },
          "metadata": {
            "tags": []
          },
          "execution_count": 10
        }
      ]
    },
    {
      "cell_type": "code",
      "metadata": {
        "id": "hlW--PKybCuU",
        "colab_type": "code",
        "outputId": "9b25c8b3-22fb-4f19-d7a1-ecd1e33b7d90",
        "colab": {
          "base_uri": "https://localhost:8080/",
          "height": 104
        }
      },
      "source": [
        ""
      ],
      "execution_count": 0,
      "outputs": [
        {
          "output_type": "stream",
          "text": [
            "     name  degree  score\n",
            "0  aparna     MBA     90\n",
            "1  pankaj     BCA     40\n",
            "2  sudhir  M.Tech     80\n",
            "3   Geeku     MBA     98\n"
          ],
          "name": "stdout"
        }
      ]
    },
    {
      "cell_type": "markdown",
      "metadata": {
        "id": "bZa7nu75zYs-",
        "colab_type": "text"
      },
      "source": [
        "### Test the "
      ]
    },
    {
      "cell_type": "code",
      "metadata": {
        "id": "ZB1hgdZDcScH",
        "colab_type": "code",
        "outputId": "bf502aa5-4b8e-45df-910c-680588bcd16c",
        "colab": {
          "base_uri": "https://localhost:8080/",
          "height": 69
        }
      },
      "source": [
        "# chinese-stock-api/test/test_model.py\n",
        "# system library\n",
        "import unittest\n",
        "import datetime\n",
        "\n",
        "# project library\n",
        "from cstock.model import Stock\n",
        "\n",
        "\n",
        "class TestModel(unittest.TestCase):\n",
        "    \n",
        "    def test_stock(self):\n",
        "        stock = Stock(\n",
        "            code='000626',\n",
        "            time=datetime.time(3, 15, 0),\n",
        "            price=21.5,\n",
        "            open=31.5,\n",
        "            close=30,\n",
        "            low=12\n",
        "        )\n",
        "        self.assertEqual(\n",
        "            stock.as_dict(),\n",
        "            {'high': None, 'low': 12, 'open': 31.5, 'code': '000626',\n",
        "             'price': 21.5, 'time': '03:15:00', 'close': 30, 'date': None,\n",
        "             'volume': None, 'turnover': None, 'name': None,\n",
        "             'yesterday_close': None}\n",
        "        )"
      ],
      "execution_count": 0,
      "outputs": [
        {
          "output_type": "stream",
          "text": [
            "sudhir\n",
            "M.Tech\n",
            "80\n"
          ],
          "name": "stdout"
        }
      ]
    },
    {
      "cell_type": "code",
      "metadata": {
        "id": "1mRHMjVzfW5Y",
        "colab_type": "code",
        "colab": {}
      },
      "source": [
        ""
      ],
      "execution_count": 0,
      "outputs": []
    }
  ]
}